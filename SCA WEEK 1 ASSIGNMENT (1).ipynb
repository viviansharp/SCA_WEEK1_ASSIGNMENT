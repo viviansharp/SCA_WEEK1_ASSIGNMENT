{
 "cells": [
  {
   "cell_type": "markdown",
   "metadata": {},
   "source": [
    "WEEK 1 (ASSIGNMENT 1)"
   ]
  },
  {
   "cell_type": "markdown",
   "metadata": {},
   "source": [
    "Password Generator"
   ]
  },
  {
   "cell_type": "code",
   "execution_count": 1,
   "metadata": {},
   "outputs": [
    {
     "name": "stdout",
     "output_type": "stream",
     "text": [
      "Enter your password length: 10\n",
      "password generating...\n",
      "how many letters would you like in your password?: 5\n",
      "how many numbers would you like in your password?: 3\n",
      "how many symbol would you like in your password?: 2\n",
      "w23Iv1r($I\n"
     ]
    }
   ],
   "source": [
    "import random,string\n",
    "def password_generator(letters_count,digits_count,symbol_count):\n",
    "    password_str =''.join((random.choice(string.ascii_letters) for i in range(letters_count)))\n",
    "    password_str +=''.join((random.choice(string.digits) for i in range(digits_count)))\n",
    "    password_str +=''.join((random.choice(string.punctuation) for i in range(symbol_count)))\n",
    "    \n",
    "    password_list = list(password_str)\n",
    "    random.shuffle(password_list)\n",
    "    final_password = ''.join(password_list)\n",
    "    return final_password\n",
    "\n",
    "min_password_length = 6\n",
    "\n",
    "while True:\n",
    "    password_length = int(input(\"Enter your password length: \"))\n",
    "    \n",
    "    if password_length >= min_password_length:\n",
    "        print('password generating...')\n",
    "        break\n",
    "        \n",
    "    elif password_length < min_password_length:\n",
    "        print('password too short,choose a higher number')\n",
    "        \n",
    "letters_length = int(input(\"how many letters would you like in your password?: \"))\n",
    "numbers_length =int(input(\"how many numbers would you like in your password?: \"))\n",
    "symbol_length = int(input(\"how many symbol would you like in your password?: \"))\n",
    "\n",
    "password = password_generator(letters_length,numbers_length,symbol_length)\n",
    "print(password)\n"
   ]
  },
  {
   "cell_type": "markdown",
   "metadata": {},
   "source": [
    "ASSIGNMENT 2\n"
   ]
  },
  {
   "cell_type": "code",
   "execution_count": null,
   "metadata": {},
   "outputs": [
    {
     "name": "stdout",
     "output_type": "stream",
     "text": [
      "Hi,kindly guess a number\n",
      "4\n",
      "your guess is too low\n",
      "Hi,kindly guess a number\n",
      "10\n",
      "your guess is too low\n",
      "Hi,kindly guess a number\n",
      "20\n",
      "your guess is too high.\n",
      "Hi,kindly guess a number\n",
      "19\n",
      "your guess is too high.\n",
      "Hi,kindly guess a number\n"
     ]
    }
   ],
   "source": [
    "import random\n",
    "\n",
    "NumberOfGuesses = 0\n",
    "\n",
    "number = random.randint(1,20)\n",
    "\n",
    "while NumberOfGuesses < 6:\n",
    "    print(\"Hi,kindly guess a number\")\n",
    "    guess= input()\n",
    "    guess = int(guess)\n",
    "    \n",
    "    NumberOfGuesses = NumberOfGuesses + 1\n",
    "   \n",
    "    if guess<number:\n",
    "        print(\"your guess is too low\")\n",
    "        \n",
    "    if guess>number:\n",
    "        print(\"your guess is too high.\")\n",
    "    \n",
    "    if guess == number:\n",
    "        break\n",
    "    \n",
    "\n"
   ]
  },
  {
   "cell_type": "code",
   "execution_count": null,
   "metadata": {},
   "outputs": [],
   "source": []
  },
  {
   "cell_type": "code",
   "execution_count": 6,
   "metadata": {},
   "outputs": [],
   "source": [
    "\n",
    "\n"
   ]
  },
  {
   "cell_type": "code",
   "execution_count": 1,
   "metadata": {},
   "outputs": [],
   "source": [
    "\n",
    "\n",
    "       \n",
    "    "
   ]
  },
  {
   "cell_type": "code",
   "execution_count": null,
   "metadata": {},
   "outputs": [],
   "source": []
  },
  {
   "cell_type": "code",
   "execution_count": null,
   "metadata": {},
   "outputs": [],
   "source": []
  }
 ],
 "metadata": {
  "kernelspec": {
   "display_name": "Python 3",
   "language": "python",
   "name": "python3"
  },
  "language_info": {
   "codemirror_mode": {
    "name": "ipython",
    "version": 3
   },
   "file_extension": ".py",
   "mimetype": "text/x-python",
   "name": "python",
   "nbconvert_exporter": "python",
   "pygments_lexer": "ipython3",
   "version": "3.7.4"
  }
 },
 "nbformat": 4,
 "nbformat_minor": 2
}
